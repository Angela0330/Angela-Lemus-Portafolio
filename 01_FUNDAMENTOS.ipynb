{
 "cells": [
  {
   "cell_type": "markdown",
   "id": "93839bb1",
   "metadata": {
    "id": "93839bb1"
   },
   "source": [
    "<center><p float=\"center\">\n",
    "  <img src=\"https://unamglobal.unam.mx/wp-content/uploads/2017/04/escudo.jpg\" width=\"300\" height=\"100\"/>\n",
    "  \n",
    "</p></center>\n",
    "<h1><center>Fundamentos de Python</center></h1>\n",
    "<center>Variables, tipos de datos, estructuras de datos, declaraciones condicionales, bucles, funciones</center>\n",
    "\n"
   ]
  },
  {
   "cell_type": "markdown",
   "id": "48d8e2ce",
   "metadata": {
    "id": "48d8e2ce"
   },
   "source": [
    "\n",
    "\n",
    "<b><h2><center>Estudio de caso de Cred-Pay</center></h2></b>"
   ]
  },
  {
   "cell_type": "markdown",
   "id": "e2999ae7",
   "metadata": {
    "id": "e2999ae7"
   },
   "source": [
    "## Definición del problema"
   ]
  },
  {
   "cell_type": "markdown",
   "id": "gcI6j9lirU6C",
   "metadata": {
    "id": "gcI6j9lirU6C"
   },
   "source": [
    "### **Contexto comercial**\n",
    "\n",
    "**Cred-Pay** es una empresa de consultoría que se asocia con bancos y verifica si sus clientes son elegibles para una tarjeta de crédito. Son una startup justo en las raíces de iniciar su negocio. Se han asociado con algunos bancos y actualmente están recopilando datos para solicitudes de tarjetas de crédito.\n",
    "\n",
    "\n",
    "### **Objetivo**\n",
    "Lo contrataron a usted como científico de datos para manejar y organizar los datos. Usted es responsable de organizar los datos, para que sean fácilmente accesibles y ayuden a la empresa a predecir si la solicitud puede ser aceptada para una tarjeta de crédito o no. \n",
    "\n",
    "#### **Enfoque de la solución**\n",
    "Usted ha tratado de entender cómo funciona la tarjeta de crédito y qué factores entran en juego. Así pues, usted puede organizar los datos para que la empresa ayude a los bancos a proporcionar tarjetas de crédito a los clientes. Usted ha considerado algunas características relacionadas con las aplicaciones de tarjetas de crédito. Algunas de ellas son: la identificación del cliente, el puntaje de crédito, la edad del cliente, el estado de la deuda y la cantidad de tarjetas de crédito existentes.\n",
    "\n",
    "Los siguientes son los datos que ha extraído y enumerado. Intentemos convertirlos en datos a los que se pueda acceder fácilmente y podamos obtener algunas ideas a partir de ellos.\n",
    "\n",
    "\n",
    "| cid | credit_score | age_of_customer | debt_status| no_of_existing_credit_cards|\n",
    "| --- | --- | --- | --- | --- | \n",
    "| cid-0001 | 650 | 25 | in-debt | 3 |\n",
    "| cid-0002 | 723 | 28 | no debt | 2 |\n",
    "| cid-0003 | 581 | 38 | no-debt | 4 |\n",
    "| cid-0004 | 462 | 41 | in-debt | 1 |\n",
    "| cid-0005 | 773 | 62 | no-debt | 2 |"
   ]
  },
  {
   "cell_type": "markdown",
   "id": "-9OUyN9DrjdB",
   "metadata": {
    "id": "-9OUyN9DrjdB"
   },
   "source": [
    "## 1.0 Organizar datos en un formato apropiado"
   ]
  },
  {
   "cell_type": "markdown",
   "id": "_SPphsqhTxlA",
   "metadata": {
    "id": "_SPphsqhTxlA"
   },
   "source": [
    "### 1.1 Almacenamiento de datos de clientes como variables"
   ]
  },
  {
   "cell_type": "markdown",
   "id": "5da097d4",
   "metadata": {
    "id": "5da097d4"
   },
   "source": [
    "Comencemos almacenando la información en forma de variables e intentemos trabajar con ellas."
   ]
  },
  {
   "cell_type": "markdown",
   "id": "dc678e8b",
   "metadata": {
    "id": "dc678e8b"
   },
   "source": [
    "Intentemos crear una variable para almacenar una función **customerid**"
   ]
  },
  {
   "cell_type": "code",
   "execution_count": 1,
   "id": "2215c68b",
   "metadata": {
    "colab": {
     "base_uri": "https://localhost:8080/"
    },
    "id": "2215c68b",
    "outputId": "84892e4c-6cf8-45d0-ef77-6fcea71cef28",
    "scrolled": true
   },
   "outputs": [
    {
     "name": "stdout",
     "output_type": "stream",
     "text": [
      "The Customer ID of the first customer is cid-0001\n"
     ]
    }
   ],
   "source": [
    "cid = 'cid-0001' #  una variable es creada con el nombre cid y un valor es almacenado como cid-0001 en la variable\n",
    "print('The Customer ID of the first customer is',cid) #para mostrar el valor de la variable o una declaración"
   ]
  },
  {
   "cell_type": "markdown",
   "id": "ec2734a0",
   "metadata": {
    "id": "ec2734a0"
   },
   "source": [
    "Bueno, esto funciona, guardemos otras identificaciones de clientes de la misma manera."
   ]
  },
  {
   "cell_type": "code",
   "execution_count": 2,
   "id": "f8c6f435",
   "metadata": {
    "id": "f8c6f435"
   },
   "outputs": [],
   "source": [
    "# Creación de múltiples variables para almacenar una identificación de cliente única\n",
    "cid1 = 'cid-0001'\n",
    "cid2 = 'cid-0002'\n",
    "cid3 = 'cid-0003'\n",
    "cid4 = 'cid-0004'\n",
    "cid5 = 'cid-0005'"
   ]
  },
  {
   "cell_type": "markdown",
   "id": "dwNUl6xw3gdd",
   "metadata": {
    "id": "dwNUl6xw3gdd"
   },
   "source": [
    "**¿Qué son las Variables?**\n",
    "\n",
    ">Las variables se utilizan para almacenar cualquier tipo de datos.\n",
    "* Un nombre de variable debe comenzar con una letra o el carácter de subrayado\n",
    "* Un nombre de variable no puede comenzar con un número\n",
    "* Un nombre de variable solo puede contener caracteres alfanuméricos y guiones bajos (A-z, 0-9 y _)\n",
    "* Los nombres de las variables distinguen entre mayúsculas y minúsculas (edad, Edad y EDAD son tres variables diferentes)"
   ]
  },
  {
   "cell_type": "markdown",
   "id": "777754eb",
   "metadata": {
    "id": "777754eb"
   },
   "source": [
    "Pero si procedemos de esta manera, tendremos que crear varias variables para almacenar una sola característica **(esta no es una forma ideal de almacenar o acceder a los datos)**"
   ]
  },
  {
   "cell_type": "markdown",
   "id": "188b945b",
   "metadata": {
    "id": "188b945b"
   },
   "source": [
    "¿Qué pasa si tratamos de almacenar estos datos como una lista?"
   ]
  },
  {
   "cell_type": "markdown",
   "id": "zRDU7pK8sAo_",
   "metadata": {
    "id": "zRDU7pK8sAo_"
   },
   "source": [
    "### 1.2 Organizar y consultar los datos"
   ]
  },
  {
   "cell_type": "markdown",
   "id": "oySqLO9P4Lc5",
   "metadata": {
    "id": "oySqLO9P4Lc5"
   },
   "source": [
    "**¿Qué es una Lista?**\n",
    "> Una lista en Python es un grupo ordenado de elementos o elementos que se almacenan en una sola variable.\n",
    "\n",
    "**¿Cómo definimos una lista?**\n",
    "> Las listas se crean usando corchetes y los elementos están separados por una coma.\n",
    "```\n",
    "list_name = [element1, element2,...., element_n]\n",
    "```\n",
    "\n",
    "\n",
    "\n",
    "\n",
    "\n"
   ]
  },
  {
   "cell_type": "code",
   "execution_count": 3,
   "id": "14cf3556",
   "metadata": {
    "colab": {
     "base_uri": "https://localhost:8080/"
    },
    "id": "14cf3556",
    "outputId": "2d234ae4-8797-459d-b5ae-dc1686c0263e"
   },
   "outputs": [
    {
     "name": "stdout",
     "output_type": "stream",
     "text": [
      "Customer ID: ['cid-0001', 'cid-0002', 'cid-0003', 'cid-0004', 'cid-0005']\n"
     ]
    }
   ],
   "source": [
    "cid = ['cid-0001', 'cid-0002', 'cid-0003', 'cid-0004', 'cid-0005'] # los elementos de las listas están separados por comas\n",
    "\n",
    "## Imprimamos la lista para ver si esto funciona.\n",
    "print(\"Customer ID:\",cid)"
   ]
  },
  {
   "cell_type": "markdown",
   "id": "9fcc996b",
   "metadata": {
    "id": "9fcc996b"
   },
   "source": [
    "* Estos funcionan bien y ahora podemos almacenar características similares creando un solo elemento de datos\n",
    "* Vamos a crear listas para el puntaje de crédito, la edad del cliente, el estado de la deuda y la cantidad de tarjetas de crédito activas que usa un cliente."
   ]
  },
  {
   "cell_type": "code",
   "execution_count": 4,
   "id": "43637179",
   "metadata": {
    "id": "43637179"
   },
   "outputs": [],
   "source": [
    "credit_score = [650, 723, 581, 462, 773]   # lista para almacenar el puntaje de crédito\n",
    "age_of_customer = [25, 28, 38, 41, 62]     # lista para almacenar la edad del cliente\n",
    "debt_status = ['no-debt', 'no-debt', 'no-debt', 'in-debt', 'no-debt']  # lista para almacenar el estatus de deuda\n",
    "no_of_existing_credit_cards = [3, 2, 4, 1, 2] # lista para almacenar la cantidad de tarjetas de crédito existentes"
   ]
  },
  {
   "cell_type": "code",
   "execution_count": 5,
   "id": "6d69e79c",
   "metadata": {
    "colab": {
     "base_uri": "https://localhost:8080/"
    },
    "id": "6d69e79c",
    "outputId": "584ed1f8-a447-4af8-8ef5-61d4576cde3d"
   },
   "outputs": [
    {
     "name": "stdout",
     "output_type": "stream",
     "text": [
      "Customer ID: ['cid-0001', 'cid-0002', 'cid-0003', 'cid-0004', 'cid-0005']\n",
      "Credit Score: [650, 723, 581, 462, 773]\n",
      "Age of Customer: [25, 28, 38, 41, 62]\n",
      "Debt Status: ['no-debt', 'no-debt', 'no-debt', 'in-debt', 'no-debt']\n",
      "Number of existing Credit Cards: [3, 2, 4, 1, 2]\n"
     ]
    }
   ],
   "source": [
    "#Imprimamos todas las características almacenadas como una lista\n",
    "print(\"Customer ID:\", cid)\n",
    "print(\"Credit Score:\", credit_score)\n",
    "print(\"Age of Customer:\", age_of_customer)\n",
    "print(\"Debt Status:\", debt_status)\n",
    "print(\"Number of existing Credit Cards:\", no_of_existing_credit_cards)"
   ]
  },
  {
   "cell_type": "markdown",
   "id": "c61011a0",
   "metadata": {
    "id": "c61011a0"
   },
   "source": [
    "¡Excelente! ahora que se crean las listas, intentemos obtener algunos datos.\n",
    "\n",
    "Digamos que queremos obtener todos los detalles del cliente cuyo id es \"cid-0002\""
   ]
  },
  {
   "cell_type": "markdown",
   "id": "SBaYCN1-Bqpd",
   "metadata": {
    "id": "SBaYCN1-Bqpd"
   },
   "source": [
    "**¿Cómo se indexan las listas?**\n",
    "> Los elementos de la lista están ordenados y su indexación comienza desde 0 desde el principio.\n",
    "Digamos que los elementos almacenados en el índice son a, b, c y d. Entonces el índice será el siguiente.\n",
    "\n",
    "![index.png](data:image/png;base64,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)\n"
   ]
  },
  {
   "cell_type": "code",
   "execution_count": 6,
   "id": "99950d86",
   "metadata": {
    "colab": {
     "base_uri": "https://localhost:8080/"
    },
    "id": "99950d86",
    "outputId": "0319bb39-4aae-4b1c-bf68-2bf1a0ba341c"
   },
   "outputs": [
    {
     "name": "stdout",
     "output_type": "stream",
     "text": [
      "1\n"
     ]
    }
   ],
   "source": [
    "## Para obtener los datos de cid-0002 primero necesitamos encontrar el índice del mismo.\n",
    "pos = cid.index('cid-0002') # index() se utiliza para obtener el índice del valor mencionado.\n",
    "print(pos)                  # Imprimir el índice de 'cid-0002'"
   ]
  },
  {
   "cell_type": "code",
   "execution_count": 7,
   "id": "998ad772",
   "metadata": {
    "colab": {
     "base_uri": "https://localhost:8080/"
    },
    "id": "998ad772",
    "outputId": "d3a237bb-8512-4623-d09d-b3f4126fffc4"
   },
   "outputs": [
    {
     "name": "stdout",
     "output_type": "stream",
     "text": [
      "cid-0002\n",
      "723\n",
      "28\n",
      "no-debt\n",
      "2\n"
     ]
    }
   ],
   "source": [
    "## Ahora que conocemos el índice, llamemos al valor almacenado en el índice para todas las listas.\n",
    "print(cid[pos])\n",
    "print(credit_score[pos])\n",
    "print(age_of_customer[pos])\n",
    "print(debt_status[pos])\n",
    "print(no_of_existing_credit_cards[pos])"
   ]
  },
  {
   "cell_type": "markdown",
   "id": "fc6a3136",
   "metadata": {
    "id": "fc6a3136"
   },
   "source": [
    "Bueno, esto es increíble, podemos obtener los datos de una manera muy organizada.\n",
    "\n",
    "Acabamos de recibir información de que el estado de la deuda para cid-0001 debe cambiarse ya que el cliente está endeudado ahora. Actualicemos lo mismo en la lista."
   ]
  },
  {
   "cell_type": "code",
   "execution_count": 8,
   "id": "a96e7594",
   "metadata": {
    "id": "a96e7594"
   },
   "outputs": [],
   "source": [
    "#Primero encontremos el índice de cid-0001\n",
    "pos = cid.index('cid-0001')     #guardando el indice de cid-001 en pos"
   ]
  },
  {
   "cell_type": "code",
   "execution_count": 9,
   "id": "c621ed6e",
   "metadata": {
    "id": "c621ed6e"
   },
   "outputs": [],
   "source": [
    "#Let's assign the updated status\n",
    "debt_status[pos] = 'in-debt'    #actualizando debt_status para la variable de índice pos"
   ]
  },
  {
   "cell_type": "code",
   "execution_count": 10,
   "id": "8537e3d3",
   "metadata": {
    "colab": {
     "base_uri": "https://localhost:8080/"
    },
    "id": "8537e3d3",
    "outputId": "ac84a50a-6e0c-4b10-846e-3c42e715a53b"
   },
   "outputs": [
    {
     "data": {
      "text/plain": [
       "['in-debt', 'no-debt', 'no-debt', 'in-debt', 'no-debt']"
      ]
     },
     "execution_count": 10,
     "metadata": {},
     "output_type": "execute_result"
    }
   ],
   "source": [
    "debt_status                     #imprimiendo la lista debt status"
   ]
  },
  {
   "cell_type": "markdown",
   "id": "bb7f5c27",
   "metadata": {
    "id": "bb7f5c27"
   },
   "source": [
    "¡Excelente! Podemos ver que la actualización de datos es fácil de hacer con listas."
   ]
  },
  {
   "cell_type": "markdown",
   "id": "ImkZyJS8shg7",
   "metadata": {
    "id": "ImkZyJS8shg7"
   },
   "source": [
    "### 1.3 Actualización de datos de clientes según condiciones"
   ]
  },
  {
   "cell_type": "markdown",
   "id": "224e4aed",
   "metadata": {
    "id": "224e4aed"
   },
   "source": [
    "Recientemente recibimos una actualización de Cred-Pay de que necesitamos actualizar el puntaje de crédito de todos los usuarios. \n",
    "El puntaje de crédito se calcula en base a 4 factores,\n",
    "\n",
    "1. Historial de pagos (impacto alto)\n",
    "2. Índice de utilización del crédito (impacto alto)\n",
    "3. Antigüedad del crédito (impacto medio)\n",
    "4. Cuentas totales (impacto bajo)\n",
    "\n",
    "Dado que el historial de pagos tiene un gran impacto en el puntaje de crédito, tenemos que actualizar el puntaje en función del historial de pago a tiempo del usuario.\n",
    "\n",
    "Para esto, primero, tenemos que crear una lista llamada **prec_on_time**, que almacena el porcentaje de pagos a tiempo realizados por el usuario. Si el prec_on_time de un usuario es **superior a 0,7**, entonces tenemos que aumentar su puntuación crediticia en un **2 %**. \n",
    "\n",
    "También imprimamos el ID de cliente para aquellos cuyo puntaje de crédito se actualizará. Probemos esto."
   ]
  },
  {
   "cell_type": "code",
   "execution_count": 11,
   "id": "b5034e39",
   "metadata": {
    "id": "b5034e39"
   },
   "outputs": [],
   "source": [
    "# Primero creemos la lista prec_on_time\n",
    "# Suponga que los siguientes números aleatorios son los porcentajes a tiempo\n",
    "prec_on_time = [0.62, 0.78, 0.20, 0.32, 0.85]"
   ]
  },
  {
   "cell_type": "markdown",
   "id": "8uNA48YpOmp7",
   "metadata": {
    "id": "8uNA48YpOmp7"
   },
   "source": [
    "Ahora, dado que queremos aumentar la puntuación de crédito en un 2 %, primero comprobaremos si el valor de prec_on_time es superior a 0,7. Podemos hacer esto con la ayuda de sentencias condicionales."
   ]
  },
  {
   "cell_type": "markdown",
   "id": "825ckbTqPh_x",
   "metadata": {
    "id": "825ckbTqPh_x"
   },
   "source": [
    "**¿Qué son las declaraciones condicionales?**\n",
    "\n",
    "> Las declaraciones condicionales son una parte importante de la toma de decisiones en Python. Los resultados se generan para la condición satisfecha.\n",
    "\n",
    "**Declaración condicional If Else**\n",
    "\n",
    "> La declaración if-else en Python se utiliza para la toma de decisiones. La sintaxis general de una sentencia if-else es:\n",
    "```\n",
    " if (test expression):\n",
    "    Body of if\n",
    " else:\n",
    "    Body of else\n",
    " ```\n",
    ">Contiene un cuerpo de código que se ejecuta solo cuando la condición dada en la sentencia if es verdadero. Si la condición es falsa, entonces se ejecuta la declaración else opcional que contiene algún código para la condición else.\n"
   ]
  },
  {
   "cell_type": "code",
   "execution_count": 12,
   "id": "5282c7b9",
   "metadata": {
    "colab": {
     "base_uri": "https://localhost:8080/"
    },
    "id": "5282c7b9",
    "outputId": "fd54ec01-ac02-4839-cc05-8b8a8dcba356"
   },
   "outputs": [
    {
     "name": "stdout",
     "output_type": "stream",
     "text": [
      "Credit Score is same for cid-0001\n",
      "Credit Score updated for cid-0002\n",
      "Credit Score is same for cid-0003\n",
      "Credit Score is same for cid-0004\n",
      "Credit Score updated for cid-0005\n"
     ]
    }
   ],
   "source": [
    "if prec_on_time[0] > 0.7:                   \n",
    "    credit_score[0] = round(credit_score[0] * 1.02)   #agregar 2% será igual a 1+0.02 = 1.02\n",
    "    print('Credit Score updated for cid-0001')\n",
    "else:\n",
    "    print('Credit Score is same for cid-0001')\n",
    "\n",
    "if prec_on_time[1]>0.7:\n",
    "    credit_score[1] = round(credit_score[1] * 1.02)\n",
    "    print('Credit Score updated for cid-0002')\n",
    "else:\n",
    "    print('Credit Score is same for cid-0002')\n",
    "    \n",
    "if prec_on_time[2]>0.7:\n",
    "    credit_score[2] = round(credit_score[2] * 1.02)\n",
    "    print('Credit Score updated for cid-0003')\n",
    "else:\n",
    "    print('Credit Score is same for cid-0003')\n",
    "    \n",
    "if prec_on_time[3]>0.7:\n",
    "    credit_score[3] = round(credit_score[3] * 1.02)\n",
    "    print('Credit Score updated for cid-0004')\n",
    "else:\n",
    "    print('Credit Score is same for cid-0004')\n",
    "    \n",
    "if prec_on_time[4]>0.7:\n",
    "    credit_score[4] = round(credit_score[4] * 1.02)\n",
    "    print('Credit Score updated for cid-0005')\n",
    "else:\n",
    "    print('Credit Score is same for cid-0005')"
   ]
  },
  {
   "cell_type": "code",
   "execution_count": 13,
   "id": "58894f42",
   "metadata": {
    "colab": {
     "base_uri": "https://localhost:8080/"
    },
    "id": "58894f42",
    "outputId": "d897f5f7-69c1-4fce-dbc6-a2b98e43847d"
   },
   "outputs": [
    {
     "data": {
      "text/plain": [
       "[650, 737, 581, 462, 788]"
      ]
     },
     "execution_count": 13,
     "metadata": {},
     "output_type": "execute_result"
    }
   ],
   "source": [
    "credit_score"
   ]
  },
  {
   "cell_type": "markdown",
   "id": "98bba087",
   "metadata": {
    "id": "98bba087"
   },
   "source": [
    "¡Excelente! podemos ver que el puntaje de crédito se actualiza para cid-0002 y cid-0005. Esto funcionó ya que solo teníamos 5 usuarios, pero consumirá mucho tiempo y será repetitivo si tenemos muchos usuarios. Deberíamos encontrar una mejor manera de codificar que nos permita recorrer la lista más fácilmente.\n",
    "\n",
    "Digamos que tenemos que reducir el puntaje de crédito para aquellos usuarios cuyo prec_on_time es inferior al 40 % en un 2 %."
   ]
  },
  {
   "cell_type": "markdown",
   "id": "6KErMSXxT7WB",
   "metadata": {
    "id": "6KErMSXxT7WB"
   },
   "source": [
    "Para evitar la repetición de código, usaremos declaraciones de bucle\n",
    "\n",
    "**¿Qué son las declaraciones en bucle?**\n",
    "\n",
    "> Los bucles se usan en Python para iterar sobre una secuencia.\n",
    "\n",
    "**¿Cuáles son los diferentes tipos de bucles en Python?**\n",
    "\n",
    "*   For Loop\n",
    "*   While Loop\n",
    "\n",
    "**For Loop** \n",
    "\n",
    "La sintaxis del 'bucle for' es:\n",
    "\n",
    "```\n",
    "for iterator_var in sequence:\n",
    "    statements(s)\n",
    "```\n",
    "**While Loop**\n",
    "La sintaxis del 'bucle while' es:\n",
    "```\n",
    "while condition:\n",
    "    statement(s)\n",
    "```\n",
    "\n",
    "Usaremos el bucle 'while' en este caso"
   ]
  },
  {
   "cell_type": "code",
   "execution_count": 14,
   "id": "0af3fe65",
   "metadata": {
    "colab": {
     "base_uri": "https://localhost:8080/"
    },
    "id": "0af3fe65",
    "outputId": "3cffef0f-a07a-4985-886a-b6f77dc16e68"
   },
   "outputs": [
    {
     "name": "stdout",
     "output_type": "stream",
     "text": [
      "Credit Score is same for cid-0001\n",
      "Credit Score is same for cid-0002\n",
      "Credit Score updated for cid-0003\n",
      "Credit Score updated for cid-0004\n",
      "Credit Score is same for cid-0005\n"
     ]
    }
   ],
   "source": [
    "for i in range(0,5):\n",
    "    if prec_on_time[i] <0.4:\n",
    "        credit_score[i] = round(credit_score[i] * .98)   #restar 2% será igual a 1-0.02 = 0.98 \n",
    "        print('Credit Score updated for',cid[i])\n",
    "    else: \n",
    "        print('Credit Score is same for',cid[i])"
   ]
  },
  {
   "cell_type": "markdown",
   "id": "07bfe1fa",
   "metadata": {
    "id": "07bfe1fa"
   },
   "source": [
    "Sorprendente, ahora podemos ejecutar bucles e incluso verificar las condiciones con una cantidad mínima de código.\n",
    "\n",
    "Intentemos jugar con los datos unas cuantas veces más.\n",
    "\n",
    "**Averigüemos cuántas personas tienen un puntaje de crédito superior a 700.**"
   ]
  },
  {
   "cell_type": "code",
   "execution_count": 15,
   "id": "16d5c3b7",
   "metadata": {
    "colab": {
     "base_uri": "https://localhost:8080/"
    },
    "id": "16d5c3b7",
    "outputId": "25201447-7e8c-4fe8-a57b-4db7470e9e16"
   },
   "outputs": [
    {
     "name": "stdout",
     "output_type": "stream",
     "text": [
      "Number of people having credit score greater than 700: 2\n"
     ]
    }
   ],
   "source": [
    "# Inicialice el contador para incrementar el número de clientes\n",
    "count = 0  \n",
    "\n",
    "for i in range(0,len(cid)):\n",
    "    if credit_score[i]>700:\n",
    "        count +=1 # Incrementar el contador de conteo en 1 cuando el puntaje de crédito es mayor a 700\n",
    "        \n",
    "print('Number of people having credit score greater than 700:',count)"
   ]
  },
  {
   "cell_type": "markdown",
   "id": "ab5afb8f",
   "metadata": {
    "id": "ab5afb8f"
   },
   "source": [
    "**¿Podemos verificar cuántas personas tienen más de 2 tarjetas de crédito?**"
   ]
  },
  {
   "cell_type": "code",
   "execution_count": 16,
   "id": "a6850d61",
   "metadata": {
    "colab": {
     "base_uri": "https://localhost:8080/"
    },
    "id": "a6850d61",
    "outputId": "afd1411e-cd11-4fe1-dda0-d6b755b9a5ae"
   },
   "outputs": [
    {
     "name": "stdout",
     "output_type": "stream",
     "text": [
      "Number of people having more than 2 credit cards: 2\n"
     ]
    }
   ],
   "source": [
    "# Inicialice el contador para incrementar el número de clientes\n",
    "count = 0\n",
    "\n",
    "for i in range(0,len(cid)):\n",
    "     if no_of_existing_credit_cards[i]>2:\n",
    "        count +=1 # Incrementando el contador de conteo en 1 cuando el número de tarjetas de crédito es mayor a 2\n",
    "print('Number of people having more than 2 credit cards:',count)"
   ]
  },
  {
   "cell_type": "markdown",
   "id": "459d82d6",
   "metadata": {
    "id": "459d82d6"
   },
   "source": [
    "**¿Podemos contar cuántas personas están endeudadas y cuántas no están endeudadas?**"
   ]
  },
  {
   "cell_type": "code",
   "execution_count": 17,
   "id": "1b902042",
   "metadata": {
    "colab": {
     "base_uri": "https://localhost:8080/"
    },
    "id": "1b902042",
    "outputId": "dd15ffec-88a0-4b87-f0c7-03feaec244c8"
   },
   "outputs": [
    {
     "name": "stdout",
     "output_type": "stream",
     "text": [
      "Number of people in debt : 2\n",
      "Number of people with no debt  3\n"
     ]
    }
   ],
   "source": [
    "# Inicializar contadores para incrementar los conteos de clientes endeudados y no endeudados\n",
    "indebt = 0\n",
    "nodebt = 0\n",
    "\n",
    "for i in range(0,len(cid)):\n",
    "    if debt_status[i]=='in-debt':\n",
    "        indebt+=1   # Incrementar el contador de endeudamiento en 1 cuando el cliente está endeudado\n",
    "    else:\n",
    "        nodebt+=1   # Incrementar el contador de nodeudas en 1 cuando el cliente no está endeudado\n",
    "# Imprimir del número de personas endeudadas y no endeudadas\n",
    "print('Number of people in debt :',indebt)\n",
    "print('Number of people with no debt ',nodebt)"
   ]
  },
  {
   "cell_type": "markdown",
   "id": "df1adae4",
   "metadata": {
    "id": "df1adae4"
   },
   "source": [
    "**Vamos intentar imprimir toda la información de cliente cuyo customer id = cid-0002**"
   ]
  },
  {
   "cell_type": "code",
   "execution_count": 18,
   "id": "598d1074",
   "metadata": {
    "colab": {
     "base_uri": "https://localhost:8080/"
    },
    "id": "598d1074",
    "outputId": "74542d84-361e-48da-d5c4-fc20cf93340c"
   },
   "outputs": [
    {
     "name": "stdout",
     "output_type": "stream",
     "text": [
      "---------------------------------------------------------------------\n",
      "Customer ID: cid-0002\n",
      "Credit Score: 737\n",
      "Age of the Customer: 28\n",
      "Debt Status: no-debt\n",
      "Number of existing Credit Cards: 2\n"
     ]
    }
   ],
   "source": [
    "for i in range(0,len(cid)):\n",
    "    if cid[i] == 'cid-0002':\n",
    "        print('---------------------------------------------------------------------')\n",
    "        print( 'Customer ID:',cid[i])\n",
    "        print( 'Credit Score:',credit_score[i])\n",
    "        print( 'Age of the Customer:',age_of_customer[i])\n",
    "        print( 'Debt Status:',debt_status[i])\n",
    "        print( 'Number of existing Credit Cards:',no_of_existing_credit_cards[i])\n",
    "        "
   ]
  },
  {
   "cell_type": "markdown",
   "id": "9pHb4HGks3xe",
   "metadata": {
    "id": "9pHb4HGks3xe"
   },
   "source": [
    "### 1.4 Modo modular de actualización de datos"
   ]
  },
  {
   "cell_type": "markdown",
   "id": "955a90c8",
   "metadata": {
    "id": "955a90c8"
   },
   "source": [
    "¡Impresionante! Pero si tenemos que comprobar si hay algún otro usuario, tendremos que volver a escribir el código anterior, que no será una forma ideal de escribir código. \n",
    "\n",
    "Deberíamos intentar usar una función."
   ]
  },
  {
   "cell_type": "markdown",
   "id": "bJ90XVZUWm9n",
   "metadata": {
    "id": "bJ90XVZUWm9n"
   },
   "source": [
    "**¿Qué es una función en Python?**\n",
    "\n",
    ">En Python, una función es un bloque de instrucciones que realiza una tarea específica.\n",
    "\n",
    "**¿Por qué usar funciones?**\n",
    ">Las funciones dividen el programa en partes modulares que se pueden reutilizar más tarde. Las funciones se utilizan para hacer que el programa sea más organizado y manejable.\n",
    "\n",
    "**¿Cómo creamos una función?**\n",
    "\n",
    "La sintaxis de la función es:\n",
    "```\n",
    "def function_name(parameters):\n",
    "\tstatement(s)\n",
    "  return statement\n",
    "```\n",
    "Se usa una declaración de retorno opcional para devolver valor(es) de la función.\n",
    "\n",
    "**¿Qué son los parámetros en Funciones?**\n",
    ">Los parámetros son variables a través de las cuales pasamos valores a una función. Los parámetros son opcionales para la definición de funciones."
   ]
  },
  {
   "cell_type": "code",
   "execution_count": 19,
   "id": "8d40885b",
   "metadata": {
    "id": "8d40885b"
   },
   "outputs": [],
   "source": [
    "def customer_info(c_id): # def(keyword) se utiliza para definir una función seguida del nombre de la función y los parámetros\n",
    "    for i in range(0,len(cid)): # configurando un ciclo 'for' para iterar a través de todas las identificaciones de clientes\n",
    "        if cid[i] == c_id:\n",
    "            print('---------------------------------------------------------------------')\n",
    "            print( 'Customer ID:',cid[i])\n",
    "            print( 'Credit Score:',credit_score[i])\n",
    "            print( 'Age of the Customer:',age_of_customer[i])\n",
    "            print( 'Debt Status:',debt_status[i])\n",
    "            print( 'Number of existing Credit Cards:',no_of_existing_credit_cards[i])\n",
    "            "
   ]
  },
  {
   "cell_type": "markdown",
   "id": "p3I4gSmVYlx9",
   "metadata": {
    "id": "p3I4gSmVYlx9"
   },
   "source": [
    "**Imprima los detalles del cliente cuyo id es 'cid-0001'**"
   ]
  },
  {
   "cell_type": "code",
   "execution_count": 20,
   "id": "f7853e97",
   "metadata": {
    "colab": {
     "base_uri": "https://localhost:8080/"
    },
    "id": "f7853e97",
    "outputId": "c0da4311-b78c-4cbd-8663-29625d2ab41f"
   },
   "outputs": [
    {
     "name": "stdout",
     "output_type": "stream",
     "text": [
      "---------------------------------------------------------------------\n",
      "Customer ID: cid-0001\n",
      "Credit Score: 650\n",
      "Age of the Customer: 25\n",
      "Debt Status: in-debt\n",
      "Number of existing Credit Cards: 3\n"
     ]
    }
   ],
   "source": [
    "customer_info('cid-0001') # Llamar a la función definida anteriormente"
   ]
  },
  {
   "cell_type": "markdown",
   "id": "fFlU0UYMY7BW",
   "metadata": {
    "id": "fFlU0UYMY7BW"
   },
   "source": [
    "**Print the details of Customer whose id is 'cid-0002'**"
   ]
  },
  {
   "cell_type": "code",
   "execution_count": 21,
   "id": "9cf033f1",
   "metadata": {
    "colab": {
     "base_uri": "https://localhost:8080/"
    },
    "id": "9cf033f1",
    "outputId": "f2fa39e6-01f2-4756-85da-6a45aa8819a7"
   },
   "outputs": [
    {
     "name": "stdout",
     "output_type": "stream",
     "text": [
      "---------------------------------------------------------------------\n",
      "Customer ID: cid-0003\n",
      "Credit Score: 569\n",
      "Age of the Customer: 38\n",
      "Debt Status: no-debt\n",
      "Number of existing Credit Cards: 4\n"
     ]
    }
   ],
   "source": [
    "customer_info('cid-0003')"
   ]
  },
  {
   "cell_type": "markdown",
   "id": "AmA1peEttBpC",
   "metadata": {
    "id": "AmA1peEttBpC"
   },
   "source": [
    "### 1.5 Combinar todos los datos en un solo elemento de datos"
   ]
  },
  {
   "cell_type": "markdown",
   "id": "a0ab3747",
   "metadata": {
    "id": "a0ab3747"
   },
   "source": [
    "¡Asombroso! Ahora podemos obtener datos con un solo comando.\n",
    "\n",
    "Pero como puede ver, los datos actualmente están segregados en diferentes listas. Solo estamos llamando a todas las listas para obtener los datos. En otras palabras, todas las listas son independientes y estamos obteniendo datos haciendo coincidir el índice. Necesitamos agrupar los datos en una sola estructura.\n",
    "\n",
    "Intentemos combinarlos en un diccionario."
   ]
  },
  {
   "cell_type": "markdown",
   "id": "yovDgwfjZB2E",
   "metadata": {
    "id": "yovDgwfjZB2E"
   },
   "source": [
    "**¿Qué es un diccionario?**\n",
    ">Los diccionarios se utilizan para almacenar valores de datos en pares clave:valor.\n",
    "\n",
    "**¿Qué tiene de especial el diccionario?**\n",
    ">Los elementos del diccionario están ordenados, se pueden modificar y no permiten duplicados.\n",
    "\n",
    "**¿Cómo declarar un diccionario?**\n",
    ">La sintaxis del diccionario es:\n",
    "> ```\n",
    " dictionary = {'key1':value1,'key2':value2,...,'key_n':value_n}\n",
    "```"
   ]
  },
  {
   "cell_type": "code",
   "execution_count": 22,
   "id": "b495314e",
   "metadata": {
    "id": "b495314e"
   },
   "outputs": [],
   "source": [
    "# el diccionario se crea con pares: clave y valor\n",
    "df1 = {\n",
    "    'cust_id': cid, \n",
    "    'cred_score': credit_score, \n",
    "    'age': age_of_customer,\n",
    "    'debt_status':debt_status,\n",
    "    'curr_cred_cards':no_of_existing_credit_cards\n",
    "}"
   ]
  },
  {
   "cell_type": "code",
   "execution_count": 23,
   "id": "99e68c59",
   "metadata": {
    "colab": {
     "base_uri": "https://localhost:8080/"
    },
    "id": "99e68c59",
    "outputId": "99d2f764-f0d9-4763-9729-846ef5369915"
   },
   "outputs": [
    {
     "data": {
      "text/plain": [
       "{'cust_id': ['cid-0001', 'cid-0002', 'cid-0003', 'cid-0004', 'cid-0005'],\n",
       " 'cred_score': [650, 737, 569, 453, 788],\n",
       " 'age': [25, 28, 38, 41, 62],\n",
       " 'debt_status': ['in-debt', 'no-debt', 'no-debt', 'in-debt', 'no-debt'],\n",
       " 'curr_cred_cards': [3, 2, 4, 1, 2]}"
      ]
     },
     "execution_count": 23,
     "metadata": {},
     "output_type": "execute_result"
    }
   ],
   "source": [
    "df1 # imprimiendo el diccionario"
   ]
  },
  {
   "cell_type": "markdown",
   "id": "9yMccGNuazRo",
   "metadata": {
    "id": "9yMccGNuazRo"
   },
   "source": [
    "**¿Cómo acceder a cualquier valor del diccionario?**\n",
    ">Se puede acceder a cualquier valor del diccionario llamando al valor clave \n",
    "```\n",
    "dictionary['key']\n",
    "```\n"
   ]
  },
  {
   "cell_type": "code",
   "execution_count": 24,
   "id": "rOGV9YH6aiOq",
   "metadata": {
    "colab": {
     "base_uri": "https://localhost:8080/"
    },
    "id": "rOGV9YH6aiOq",
    "outputId": "43807f0a-17b5-4155-d5a2-71e0b4d12480"
   },
   "outputs": [
    {
     "data": {
      "text/plain": [
       "['cid-0001', 'cid-0002', 'cid-0003', 'cid-0004', 'cid-0005']"
      ]
     },
     "execution_count": 24,
     "metadata": {},
     "output_type": "execute_result"
    }
   ],
   "source": [
    "df1['cust_id'] # obtener todos los valores bajo la clave 'cust_id'"
   ]
  },
  {
   "cell_type": "code",
   "execution_count": 25,
   "id": "7cb995c0",
   "metadata": {
    "colab": {
     "base_uri": "https://localhost:8080/",
     "height": 35
    },
    "id": "7cb995c0",
    "outputId": "9238298e-cf53-4bd5-880b-b27d2f5cc1a2"
   },
   "outputs": [
    {
     "data": {
      "text/plain": [
       "'cid-0003'"
      ]
     },
     "execution_count": 25,
     "metadata": {},
     "output_type": "execute_result"
    }
   ],
   "source": [
    "df1['cust_id'][2] # para buscar el tercer elemento en la lista 'cust_id'"
   ]
  },
  {
   "cell_type": "markdown",
   "id": "4dc83f72-dde4-4aa7-a7c0-1cdb9941ec79",
   "metadata": {
    "id": "f7bc2968"
   },
   "source": [
    "**Obtengamos toda la información del cliente cuyo id es \"cid-0004\"**\n",
    "Podemos hacer esto iterando en todas la claves del diccionarip con el indice de una lista fij0. Podemos lograr esto con el método items."
   ]
  },
  {
   "cell_type": "code",
   "execution_count": 26,
   "id": "6d678f75",
   "metadata": {
    "colab": {
     "base_uri": "https://localhost:8080/"
    },
    "id": "6d678f75",
    "outputId": "c9c3da21-5d26-4168-a97e-6f39ab813b0b"
   },
   "outputs": [
    {
     "name": "stdout",
     "output_type": "stream",
     "text": [
      "cust_id cid-0004\n",
      "cred_score 453\n",
      "age 41\n",
      "debt_status in-debt\n",
      "curr_cred_cards 1\n"
     ]
    }
   ],
   "source": [
    "for key, value in df1.items():  # Iterando a través de todas las claves del diccionario, con el índice de valores como constante\n",
    "    print(key ,value[3])"
   ]
  },
  {
   "cell_type": "markdown",
   "id": "be023f6a",
   "metadata": {
    "id": "be023f6a"
   },
   "source": [
    "Los diccionarios están funcionando bien para obtener los datos existentes, pero la extracción de datos condicional será difícil de lograr en este caso. \n",
    "\n",
    "Si tan solo tuviéramos una mejor manera de organizar los datos donde estarán organizados, sistemáticos y fáciles de realizar todas las operaciones que hicimos anteriormente.\n",
    "\n",
    "Podemos hacer eso usando algunas bibliotecas que pueden hacer todas estas operaciones con una sola pieza de código. Las bibliotecas en python contienen códigos precompilados que se pueden usar para operaciones definidas. Hacen que la programación de Python sea más simple, ya que no tiene que crear las mismas funciones una y otra vez cuando trabaja en un nuevo proyecto. Estas bibliotecas están fácilmente disponibles y se puede acceder a ellas importando la biblioteca al cuaderno. \n",
    "\n",
    "Entonces, en este caso, crearemos un marco de datos, pero para eso, necesitamos importar pandas (una biblioteca utilizada para el análisis y la manipulación de datos)"
   ]
  },
  {
   "cell_type": "markdown",
   "id": "n4CcdAfutIZM",
   "metadata": {
    "id": "n4CcdAfutIZM"
   },
   "source": [
    "## 2.0 Obtener datos en una estructura conveniente"
   ]
  },
  {
   "cell_type": "markdown",
   "id": "SQZtnRavoLej",
   "metadata": {
    "id": "SQZtnRavoLej"
   },
   "source": [
    "**¿Qué es la biblioteca de Pandas?**\n",
    "\n",
    "Pandas es una biblioteca Python de código abierto que proporciona una herramienta de análisis y manipulación de datos de alto rendimiento utilizando sus poderosas estructuras de datos. Es una estructura de datos rápida, flexible y expresiva diseñada para que trabajar con datos 'numéricos' o 'categóricos' sea fácil e intuitivo. Su objetivo es ser el bloque de construcción fundamental de alto nivel para realizar análisis prácticos de datos del mundo real en Python.\n",
    "\n",
    "**¿Por qué usamos Pandas?**\n",
    "- Se utiliza para analizar, limpiar, explorar y manipular datos.\n",
    "\n",
    "- Pandas nos permite analizar big data y sacar conclusiones.\n",
    "\n",
    "- Es una biblioteca importante en ciencia de datos para obtener información de los datos.\n",
    "\n",
    "<img src=\"https://www.w3resource.com/w3r_images/pandas-data-structure.svg\" />"
   ]
  },
  {
   "cell_type": "markdown",
   "id": "mBoLkFT7tY-6",
   "metadata": {
    "id": "mBoLkFT7tY-6"
   },
   "source": [
    "### 2.1 Convertir el diccionario en un marco de datos de pandas"
   ]
  },
  {
   "cell_type": "code",
   "execution_count": 27,
   "id": "ac69a207",
   "metadata": {
    "id": "ac69a207"
   },
   "outputs": [],
   "source": [
    "# import se utiliza para llamar a cualquier biblioteca que esté instalada en el sistema\n",
    "import pandas as pd  # cualquier cosa después de'as' se convertirá en un alias para el nombre de la biblioteca"
   ]
  },
  {
   "cell_type": "markdown",
   "id": "6458f419",
   "metadata": {
    "id": "6458f419"
   },
   "source": [
    "Vamos a crear un marco de datos a partir del diccionario existente."
   ]
  },
  {
   "cell_type": "code",
   "execution_count": 28,
   "id": "2046a0f3",
   "metadata": {
    "id": "2046a0f3"
   },
   "outputs": [],
   "source": [
    "# el Dataframe puede ser creado usando la función pd.Dataframe\n",
    "df = pd.DataFrame(df1)"
   ]
  },
  {
   "cell_type": "code",
   "execution_count": 29,
   "id": "8eed2ecb",
   "metadata": {
    "colab": {
     "base_uri": "https://localhost:8080/",
     "height": 206
    },
    "id": "8eed2ecb",
    "outputId": "1e84a9b4-bba3-4ec6-a056-fc16b8df8cb0"
   },
   "outputs": [
    {
     "data": {
      "text/html": [
       "<div>\n",
       "<style scoped>\n",
       "    .dataframe tbody tr th:only-of-type {\n",
       "        vertical-align: middle;\n",
       "    }\n",
       "\n",
       "    .dataframe tbody tr th {\n",
       "        vertical-align: top;\n",
       "    }\n",
       "\n",
       "    .dataframe thead th {\n",
       "        text-align: right;\n",
       "    }\n",
       "</style>\n",
       "<table border=\"1\" class=\"dataframe\">\n",
       "  <thead>\n",
       "    <tr style=\"text-align: right;\">\n",
       "      <th></th>\n",
       "      <th>cust_id</th>\n",
       "      <th>cred_score</th>\n",
       "      <th>age</th>\n",
       "      <th>debt_status</th>\n",
       "      <th>curr_cred_cards</th>\n",
       "    </tr>\n",
       "  </thead>\n",
       "  <tbody>\n",
       "    <tr>\n",
       "      <th>0</th>\n",
       "      <td>cid-0001</td>\n",
       "      <td>650</td>\n",
       "      <td>25</td>\n",
       "      <td>in-debt</td>\n",
       "      <td>3</td>\n",
       "    </tr>\n",
       "    <tr>\n",
       "      <th>1</th>\n",
       "      <td>cid-0002</td>\n",
       "      <td>737</td>\n",
       "      <td>28</td>\n",
       "      <td>no-debt</td>\n",
       "      <td>2</td>\n",
       "    </tr>\n",
       "    <tr>\n",
       "      <th>2</th>\n",
       "      <td>cid-0003</td>\n",
       "      <td>569</td>\n",
       "      <td>38</td>\n",
       "      <td>no-debt</td>\n",
       "      <td>4</td>\n",
       "    </tr>\n",
       "    <tr>\n",
       "      <th>3</th>\n",
       "      <td>cid-0004</td>\n",
       "      <td>453</td>\n",
       "      <td>41</td>\n",
       "      <td>in-debt</td>\n",
       "      <td>1</td>\n",
       "    </tr>\n",
       "    <tr>\n",
       "      <th>4</th>\n",
       "      <td>cid-0005</td>\n",
       "      <td>788</td>\n",
       "      <td>62</td>\n",
       "      <td>no-debt</td>\n",
       "      <td>2</td>\n",
       "    </tr>\n",
       "  </tbody>\n",
       "</table>\n",
       "</div>"
      ],
      "text/plain": [
       "    cust_id  cred_score  age debt_status  curr_cred_cards\n",
       "0  cid-0001         650   25     in-debt                3\n",
       "1  cid-0002         737   28     no-debt                2\n",
       "2  cid-0003         569   38     no-debt                4\n",
       "3  cid-0004         453   41     in-debt                1\n",
       "4  cid-0005         788   62     no-debt                2"
      ]
     },
     "execution_count": 29,
     "metadata": {},
     "output_type": "execute_result"
    }
   ],
   "source": [
    "# Vamos a imprimir el dataframe\n",
    "df"
   ]
  },
  {
   "cell_type": "markdown",
   "id": "f2a43ae4",
   "metadata": {
    "id": "f2a43ae4"
   },
   "source": [
    "¡Excelente! esto se ve mucho mejor y se ve organizado, y junto con este conjunto de datos creado, podemos encontrar mucha información sobre los datos con facilidad."
   ]
  },
  {
   "cell_type": "markdown",
   "id": "p4jlHeaOuIxL",
   "metadata": {
    "id": "p4jlHeaOuIxL"
   },
   "source": [
    "### 2.2 Acceso y análisis de los datos"
   ]
  },
  {
   "cell_type": "code",
   "execution_count": 30,
   "id": "b8bc853a",
   "metadata": {
    "colab": {
     "base_uri": "https://localhost:8080/",
     "height": 143
    },
    "id": "b8bc853a",
    "outputId": "1c8b5205-2ac1-40fc-93a2-83f07a042474"
   },
   "outputs": [
    {
     "data": {
      "text/html": [
       "<div>\n",
       "<style scoped>\n",
       "    .dataframe tbody tr th:only-of-type {\n",
       "        vertical-align: middle;\n",
       "    }\n",
       "\n",
       "    .dataframe tbody tr th {\n",
       "        vertical-align: top;\n",
       "    }\n",
       "\n",
       "    .dataframe thead th {\n",
       "        text-align: right;\n",
       "    }\n",
       "</style>\n",
       "<table border=\"1\" class=\"dataframe\">\n",
       "  <thead>\n",
       "    <tr style=\"text-align: right;\">\n",
       "      <th></th>\n",
       "      <th>cust_id</th>\n",
       "      <th>cred_score</th>\n",
       "      <th>age</th>\n",
       "      <th>debt_status</th>\n",
       "      <th>curr_cred_cards</th>\n",
       "    </tr>\n",
       "  </thead>\n",
       "  <tbody>\n",
       "    <tr>\n",
       "      <th>0</th>\n",
       "      <td>cid-0001</td>\n",
       "      <td>650</td>\n",
       "      <td>25</td>\n",
       "      <td>in-debt</td>\n",
       "      <td>3</td>\n",
       "    </tr>\n",
       "    <tr>\n",
       "      <th>1</th>\n",
       "      <td>cid-0002</td>\n",
       "      <td>737</td>\n",
       "      <td>28</td>\n",
       "      <td>no-debt</td>\n",
       "      <td>2</td>\n",
       "    </tr>\n",
       "    <tr>\n",
       "      <th>2</th>\n",
       "      <td>cid-0003</td>\n",
       "      <td>569</td>\n",
       "      <td>38</td>\n",
       "      <td>no-debt</td>\n",
       "      <td>4</td>\n",
       "    </tr>\n",
       "  </tbody>\n",
       "</table>\n",
       "</div>"
      ],
      "text/plain": [
       "    cust_id  cred_score  age debt_status  curr_cred_cards\n",
       "0  cid-0001         650   25     in-debt                3\n",
       "1  cid-0002         737   28     no-debt                2\n",
       "2  cid-0003         569   38     no-debt                4"
      ]
     },
     "execution_count": 30,
     "metadata": {},
     "output_type": "execute_result"
    }
   ],
   "source": [
    "# Vamos a imprimir las primeras 3 entradas  \n",
    "df.head(3) # si no pone ningún valor dentro del paréntesis, imprimirá las primeras 5 entradas de los datos"
   ]
  },
  {
   "cell_type": "code",
   "execution_count": 31,
   "id": "361a7314",
   "metadata": {
    "colab": {
     "base_uri": "https://localhost:8080/",
     "height": 143
    },
    "id": "361a7314",
    "outputId": "ae57767a-9fb1-4034-e239-06fde1b9aedb"
   },
   "outputs": [
    {
     "data": {
      "text/html": [
       "<div>\n",
       "<style scoped>\n",
       "    .dataframe tbody tr th:only-of-type {\n",
       "        vertical-align: middle;\n",
       "    }\n",
       "\n",
       "    .dataframe tbody tr th {\n",
       "        vertical-align: top;\n",
       "    }\n",
       "\n",
       "    .dataframe thead th {\n",
       "        text-align: right;\n",
       "    }\n",
       "</style>\n",
       "<table border=\"1\" class=\"dataframe\">\n",
       "  <thead>\n",
       "    <tr style=\"text-align: right;\">\n",
       "      <th></th>\n",
       "      <th>cust_id</th>\n",
       "      <th>cred_score</th>\n",
       "      <th>age</th>\n",
       "      <th>debt_status</th>\n",
       "      <th>curr_cred_cards</th>\n",
       "    </tr>\n",
       "  </thead>\n",
       "  <tbody>\n",
       "    <tr>\n",
       "      <th>2</th>\n",
       "      <td>cid-0003</td>\n",
       "      <td>569</td>\n",
       "      <td>38</td>\n",
       "      <td>no-debt</td>\n",
       "      <td>4</td>\n",
       "    </tr>\n",
       "    <tr>\n",
       "      <th>3</th>\n",
       "      <td>cid-0004</td>\n",
       "      <td>453</td>\n",
       "      <td>41</td>\n",
       "      <td>in-debt</td>\n",
       "      <td>1</td>\n",
       "    </tr>\n",
       "    <tr>\n",
       "      <th>4</th>\n",
       "      <td>cid-0005</td>\n",
       "      <td>788</td>\n",
       "      <td>62</td>\n",
       "      <td>no-debt</td>\n",
       "      <td>2</td>\n",
       "    </tr>\n",
       "  </tbody>\n",
       "</table>\n",
       "</div>"
      ],
      "text/plain": [
       "    cust_id  cred_score  age debt_status  curr_cred_cards\n",
       "2  cid-0003         569   38     no-debt                4\n",
       "3  cid-0004         453   41     in-debt                1\n",
       "4  cid-0005         788   62     no-debt                2"
      ]
     },
     "execution_count": 31,
     "metadata": {},
     "output_type": "execute_result"
    }
   ],
   "source": [
    "# Vamos a imprimir las últimas 3 entradas   \n",
    "df.tail(3) # si no pone ningún valor dentro del paréntesis, imprimirá las últimas 5 entradas de los datos"
   ]
  },
  {
   "cell_type": "markdown",
   "id": "5302d497",
   "metadata": {
    "id": "5302d497"
   },
   "source": [
    "Podemos crear un resumen estadístico de los datos con facilidad."
   ]
  },
  {
   "cell_type": "code",
   "execution_count": 32,
   "id": "bbcf6a4c",
   "metadata": {
    "colab": {
     "base_uri": "https://localhost:8080/",
     "height": 300
    },
    "id": "bbcf6a4c",
    "outputId": "90753a2f-576a-467c-81ca-0247ce017680"
   },
   "outputs": [
    {
     "data": {
      "text/html": [
       "<div>\n",
       "<style scoped>\n",
       "    .dataframe tbody tr th:only-of-type {\n",
       "        vertical-align: middle;\n",
       "    }\n",
       "\n",
       "    .dataframe tbody tr th {\n",
       "        vertical-align: top;\n",
       "    }\n",
       "\n",
       "    .dataframe thead th {\n",
       "        text-align: right;\n",
       "    }\n",
       "</style>\n",
       "<table border=\"1\" class=\"dataframe\">\n",
       "  <thead>\n",
       "    <tr style=\"text-align: right;\">\n",
       "      <th></th>\n",
       "      <th>cred_score</th>\n",
       "      <th>age</th>\n",
       "      <th>curr_cred_cards</th>\n",
       "    </tr>\n",
       "  </thead>\n",
       "  <tbody>\n",
       "    <tr>\n",
       "      <th>count</th>\n",
       "      <td>5.000000</td>\n",
       "      <td>5.000000</td>\n",
       "      <td>5.000000</td>\n",
       "    </tr>\n",
       "    <tr>\n",
       "      <th>mean</th>\n",
       "      <td>639.400000</td>\n",
       "      <td>38.800000</td>\n",
       "      <td>2.400000</td>\n",
       "    </tr>\n",
       "    <tr>\n",
       "      <th>std</th>\n",
       "      <td>133.623725</td>\n",
       "      <td>14.584238</td>\n",
       "      <td>1.140175</td>\n",
       "    </tr>\n",
       "    <tr>\n",
       "      <th>min</th>\n",
       "      <td>453.000000</td>\n",
       "      <td>25.000000</td>\n",
       "      <td>1.000000</td>\n",
       "    </tr>\n",
       "    <tr>\n",
       "      <th>25%</th>\n",
       "      <td>569.000000</td>\n",
       "      <td>28.000000</td>\n",
       "      <td>2.000000</td>\n",
       "    </tr>\n",
       "    <tr>\n",
       "      <th>50%</th>\n",
       "      <td>650.000000</td>\n",
       "      <td>38.000000</td>\n",
       "      <td>2.000000</td>\n",
       "    </tr>\n",
       "    <tr>\n",
       "      <th>75%</th>\n",
       "      <td>737.000000</td>\n",
       "      <td>41.000000</td>\n",
       "      <td>3.000000</td>\n",
       "    </tr>\n",
       "    <tr>\n",
       "      <th>max</th>\n",
       "      <td>788.000000</td>\n",
       "      <td>62.000000</td>\n",
       "      <td>4.000000</td>\n",
       "    </tr>\n",
       "  </tbody>\n",
       "</table>\n",
       "</div>"
      ],
      "text/plain": [
       "       cred_score        age  curr_cred_cards\n",
       "count    5.000000   5.000000         5.000000\n",
       "mean   639.400000  38.800000         2.400000\n",
       "std    133.623725  14.584238         1.140175\n",
       "min    453.000000  25.000000         1.000000\n",
       "25%    569.000000  28.000000         2.000000\n",
       "50%    650.000000  38.000000         2.000000\n",
       "75%    737.000000  41.000000         3.000000\n",
       "max    788.000000  62.000000         4.000000"
      ]
     },
     "execution_count": 32,
     "metadata": {},
     "output_type": "execute_result"
    }
   ],
   "source": [
    "# Vamos a crear un resumen estadístico\n",
    "df.describe()"
   ]
  },
  {
   "cell_type": "code",
   "execution_count": 33,
   "id": "3b5c186b",
   "metadata": {
    "colab": {
     "base_uri": "https://localhost:8080/"
    },
    "id": "3b5c186b",
    "outputId": "8a54e3b7-525f-4535-f4fd-76c9fbc48576"
   },
   "outputs": [
    {
     "data": {
      "text/plain": [
       "(5, 5)"
      ]
     },
     "execution_count": 33,
     "metadata": {},
     "output_type": "execute_result"
    }
   ],
   "source": [
    "# Para obtener la dimensión de los datos usamos la función shape, que devuelve una tupla con el número de filas y columnas\n",
    "df.shape "
   ]
  },
  {
   "cell_type": "code",
   "execution_count": 34,
   "id": "fb0de679",
   "metadata": {
    "colab": {
     "base_uri": "https://localhost:8080/"
    },
    "id": "fb0de679",
    "outputId": "bb374fae-70df-479c-ebba-185467e57a15"
   },
   "outputs": [
    {
     "name": "stdout",
     "output_type": "stream",
     "text": [
      "<class 'pandas.core.frame.DataFrame'>\n",
      "RangeIndex: 5 entries, 0 to 4\n",
      "Data columns (total 5 columns):\n",
      " #   Column           Non-Null Count  Dtype \n",
      "---  ------           --------------  ----- \n",
      " 0   cust_id          5 non-null      object\n",
      " 1   cred_score       5 non-null      int64 \n",
      " 2   age              5 non-null      int64 \n",
      " 3   debt_status      5 non-null      object\n",
      " 4   curr_cred_cards  5 non-null      int64 \n",
      "dtypes: int64(3), object(2)\n",
      "memory usage: 328.0+ bytes\n"
     ]
    }
   ],
   "source": [
    "# Para obtener información sobre la cantidad de columnas, el tipo de datos de las filas y el uso de la memoria, usamos la función de info\n",
    "df.info()"
   ]
  },
  {
   "cell_type": "code",
   "execution_count": null,
   "id": "b7fd184c",
   "metadata": {},
   "outputs": [],
   "source": []
  },
  {
   "cell_type": "code",
   "execution_count": null,
   "id": "5ef67f20",
   "metadata": {},
   "outputs": [],
   "source": []
  },
  {
   "cell_type": "code",
   "execution_count": null,
   "id": "0151ab7f",
   "metadata": {},
   "outputs": [],
   "source": []
  }
 ],
 "metadata": {
  "colab": {
   "collapsed_sections": [],
   "name": "MLS Week1(Python Foundation).ipynb",
   "provenance": [],
   "toc_visible": true
  },
  "kernelspec": {
   "display_name": "Python 3 (ipykernel)",
   "language": "python",
   "name": "python3"
  },
  "language_info": {
   "codemirror_mode": {
    "name": "ipython",
    "version": 3
   },
   "file_extension": ".py",
   "mimetype": "text/x-python",
   "name": "python",
   "nbconvert_exporter": "python",
   "pygments_lexer": "ipython3",
   "version": "3.12.4"
  }
 },
 "nbformat": 4,
 "nbformat_minor": 5
}
